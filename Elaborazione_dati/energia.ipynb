{
 "cells": [
  {
   "cell_type": "code",
   "execution_count": 78,
   "metadata": {},
   "outputs": [],
   "source": [
    "import pandas as pd\n",
    "import numpy as np\n",
    "import os\n",
    "import glob"
   ]
  },
  {
   "cell_type": "code",
   "execution_count": 67,
   "metadata": {},
   "outputs": [],
   "source": [
    "df = pd.read_csv(\"energia.csv\")"
   ]
  },
  {
   "cell_type": "code",
   "execution_count": 70,
   "metadata": {},
   "outputs": [
    {
     "data": {
      "text/plain": [
       "['Italia',\n",
       " 'Nord-ovest',\n",
       " 'Piemonte',\n",
       " 'Valle_Aosta',\n",
       " 'Liguria',\n",
       " 'Lombardia',\n",
       " 'Nord-est',\n",
       " 'Trentino Alto Adige',\n",
       " 'Bolzano',\n",
       " 'Provincia Autonoma Trento',\n",
       " 'Veneto',\n",
       " 'Friuli-Venezia Giulia',\n",
       " 'Emilia-Romagna',\n",
       " 'Centro',\n",
       " 'Toscana',\n",
       " 'Umbria',\n",
       " 'Marche',\n",
       " 'Lazio',\n",
       " 'Mezzogiorno',\n",
       " 'Abruzzo',\n",
       " 'Molise',\n",
       " 'Campania',\n",
       " 'Puglia',\n",
       " 'Basilicata',\n",
       " 'Calabria',\n",
       " 'Sicilia',\n",
       " 'Sardegna']"
      ]
     },
     "execution_count": 70,
     "metadata": {},
     "output_type": "execute_result"
    }
   ],
   "source": [
    "dizio ={\"Valle d'Aosta / Vallée d'Aoste\":\"Valle_Aosta\",\n",
    "        \"Trentino Alto Adige / Südtirol\": \"Trentino Alto Adige\",\n",
    "        \"Provincia Autonoma Bolzano / Bozen\": \"Bolzano\"\n",
    "        } \n",
    "\n",
    "df=df.replace({'Territorio':dizio})\n",
    "lista=df[\"Territorio\"].unique().tolist()\n",
    "lista"
   ]
  },
  {
   "cell_type": "code",
   "execution_count": 43,
   "metadata": {},
   "outputs": [],
   "source": [
    "# df['Territorio'] = df['Territorio'].str.replace(\"Valle dAosta / Vallée d'Aoste\",'Valle dAosta')\n",
    "# df['Territorio'] = df['Territorio'].str.replace(\"Trentino Alto Adige / Südtirol\",'Trentino Alto Adige Südtirol')\n",
    "# df['Territorio'] = df['Territorio'].str.replace(\"Provincia Autonoma Bolzano / Bozen\",'Provincia Autonoma Bolzano')\n"
   ]
  },
  {
   "cell_type": "code",
   "execution_count": 61,
   "metadata": {},
   "outputs": [
    {
     "data": {
      "text/plain": [
       "Territorio\n",
       "Italia                                17\n",
       "Abruzzo                               11\n",
       "Nord-est                              11\n",
       "Valle d'Aosta / Vallée d'Aoste        11\n",
       "Umbria                                11\n",
       "Trentino Alto Adige / Südtirol        11\n",
       "Toscana                               11\n",
       "Sicilia                               11\n",
       "Puglia                                11\n",
       "Provincia Autonoma Trento             11\n",
       "Provincia Autonoma Bolzano / Bozen    11\n",
       "Piemonte                              11\n",
       "Nord-ovest                            11\n",
       "Molise                                11\n",
       "Basilicata                            11\n",
       "Mezzogiorno                           11\n",
       "Marche                                11\n",
       "Lombardia                             11\n",
       "Liguria                               11\n",
       "Lazio                                 11\n",
       "Friuli-Venezia Giulia                 11\n",
       "Emilia-Romagna                        11\n",
       "Centro                                11\n",
       "Campania                              11\n",
       "Calabria                              11\n",
       "Veneto                                11\n",
       "Sardegna                               9\n",
       "dtype: int64"
      ]
     },
     "execution_count": 61,
     "metadata": {},
     "output_type": "execute_result"
    }
   ],
   "source": [
    "df.value_counts(\"Territorio\")"
   ]
  },
  {
   "cell_type": "code",
   "execution_count": 63,
   "metadata": {},
   "outputs": [
    {
     "data": {
      "text/plain": [
       "['Italia',\n",
       " 'Nord-ovest',\n",
       " 'Piemonte',\n",
       " \"Valle d'Aosta / Vallée d'Aoste\",\n",
       " 'Liguria',\n",
       " 'Lombardia',\n",
       " 'Nord-est',\n",
       " 'Trentino Alto Adige / Südtirol',\n",
       " 'Provincia Autonoma Bolzano / Bozen',\n",
       " 'Provincia Autonoma Trento',\n",
       " 'Veneto',\n",
       " 'Friuli-Venezia Giulia',\n",
       " 'Emilia-Romagna',\n",
       " 'Centro',\n",
       " 'Toscana',\n",
       " 'Umbria',\n",
       " 'Marche',\n",
       " 'Lazio',\n",
       " 'Mezzogiorno',\n",
       " 'Abruzzo',\n",
       " 'Molise',\n",
       " 'Campania',\n",
       " 'Puglia',\n",
       " 'Basilicata',\n",
       " 'Calabria',\n",
       " 'Sicilia',\n",
       " 'Sardegna']"
      ]
     },
     "execution_count": 63,
     "metadata": {},
     "output_type": "execute_result"
    }
   ],
   "source": [
    "lista=df[\"Territorio\"].unique().tolist()\n",
    "lista"
   ]
  },
  {
   "cell_type": "code",
   "execution_count": 74,
   "metadata": {},
   "outputs": [],
   "source": [
    "# for i in lista:\n",
    "#     csv_filename = f\"cartellacsv/{i}.csv\"  \n",
    "#     xlsx_filename = f\"cartellaxls/{i}.xlsx\" \n",
    "#     subset_df = df[df[\"Territorio\"] == i] \n",
    "#     subset_df.to_csv(csv_filename)\n",
    "#     df_csv = pd.read_csv(csv_filename)\n",
    "#     df_csv.to_excel(xlsx_filename, index=False)"
   ]
  },
  {
   "cell_type": "code",
   "execution_count": 76,
   "metadata": {},
   "outputs": [],
   "source": [
    "for i in lista:\n",
    "    df[df[\"Territorio\"] == i].to_csv(f\"cartellacsv/{i}.csv\")\n",
    "    df[df[\"Territorio\"] == i].to_excel(f\"cartellaxlsx/{i}.xlsx\")"
   ]
  },
  {
   "cell_type": "code",
   "execution_count": 81,
   "metadata": {},
   "outputs": [],
   "source": [
    "files = os.path.join(\"cartellaxlsx/\",\"*.xlsx\")\n",
    "files = glob.glob(files)\n",
    "df = pd.concat(map(pd.read_excel, files), ignore_index=True)\n",
    "df.to_csv(\"totale1.csv\", sep= \",\", index=False)\n"
   ]
  },
  {
   "cell_type": "code",
   "execution_count": 83,
   "metadata": {},
   "outputs": [],
   "source": [
    "files = os.path.join(\"cartellaxlsx/\",\"*.xlsx\")\n",
    "files = glob.glob(files)\n",
    "df = pd.concat(map(pd.read_excel, files), ignore_index=True)\n",
    "df.to_excel(\"totale1.xlsx\")"
   ]
  }
 ],
 "metadata": {
  "kernelspec": {
   "display_name": "Python 3",
   "language": "python",
   "name": "python3"
  },
  "language_info": {
   "codemirror_mode": {
    "name": "ipython",
    "version": 3
   },
   "file_extension": ".py",
   "mimetype": "text/x-python",
   "name": "python",
   "nbconvert_exporter": "python",
   "pygments_lexer": "ipython3",
   "version": "3.9.7"
  },
  "orig_nbformat": 4
 },
 "nbformat": 4,
 "nbformat_minor": 2
}
