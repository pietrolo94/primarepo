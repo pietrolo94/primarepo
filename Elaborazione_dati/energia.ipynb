{
 "cells": [
  {
   "cell_type": "code",
   "execution_count": 107,
   "metadata": {},
   "outputs": [],
   "source": [
    "import pandas as pd\n",
    "import numpy as np\n",
    "import os\n",
    "import glob\n",
    "import sqlite3"
   ]
  },
  {
   "cell_type": "code",
   "execution_count": 96,
   "metadata": {},
   "outputs": [],
   "source": [
    "df = pd.read_csv(\"energia.csv\")"
   ]
  },
  {
   "cell_type": "code",
   "execution_count": 97,
   "metadata": {},
   "outputs": [
    {
     "data": {
      "text/plain": [
       "['Italia',\n",
       " 'Nord-ovest',\n",
       " 'Piemonte',\n",
       " 'Valle_Aosta',\n",
       " 'Liguria',\n",
       " 'Lombardia',\n",
       " 'Nord-est',\n",
       " 'Trentino Alto Adige',\n",
       " 'Bolzano',\n",
       " 'Provincia Autonoma Trento',\n",
       " 'Veneto',\n",
       " 'Friuli-Venezia Giulia',\n",
       " 'Emilia-Romagna',\n",
       " 'Centro',\n",
       " 'Toscana',\n",
       " 'Umbria',\n",
       " 'Marche',\n",
       " 'Lazio',\n",
       " 'Mezzogiorno',\n",
       " 'Abruzzo',\n",
       " 'Molise',\n",
       " 'Campania',\n",
       " 'Puglia',\n",
       " 'Basilicata',\n",
       " 'Calabria',\n",
       " 'Sicilia',\n",
       " 'Sardegna']"
      ]
     },
     "execution_count": 97,
     "metadata": {},
     "output_type": "execute_result"
    }
   ],
   "source": [
    "dizio ={\"Valle d'Aosta / Vallée d'Aoste\":\"Valle_Aosta\",\n",
    "        \"Trentino Alto Adige / Südtirol\": \"Trentino Alto Adige\",\n",
    "        \"Provincia Autonoma Bolzano / Bozen\": \"Bolzano\"\n",
    "        } \n",
    "\n",
    "df=df.replace({'Territorio':dizio})\n",
    "lista=df[\"Territorio\"].unique().tolist()\n",
    "lista"
   ]
  },
  {
   "cell_type": "code",
   "execution_count": 43,
   "metadata": {},
   "outputs": [],
   "source": [
    "# df['Territorio'] = df['Territorio'].str.replace(\"Valle dAosta / Vallée d'Aoste\",'Valle dAosta')\n",
    "# df['Territorio'] = df['Territorio'].str.replace(\"Trentino Alto Adige / Südtirol\",'Trentino Alto Adige Südtirol')\n",
    "# df['Territorio'] = df['Territorio'].str.replace(\"Provincia Autonoma Bolzano / Bozen\",'Provincia Autonoma Bolzano')\n"
   ]
  },
  {
   "cell_type": "code",
   "execution_count": 98,
   "metadata": {},
   "outputs": [
    {
     "data": {
      "text/plain": [
       "Territorio\n",
       "Italia                       17\n",
       "Abruzzo                      11\n",
       "Molise                       11\n",
       "Valle_Aosta                  11\n",
       "Umbria                       11\n",
       "Trentino Alto Adige          11\n",
       "Toscana                      11\n",
       "Sicilia                      11\n",
       "Puglia                       11\n",
       "Provincia Autonoma Trento    11\n",
       "Piemonte                     11\n",
       "Nord-ovest                   11\n",
       "Nord-est                     11\n",
       "Mezzogiorno                  11\n",
       "Basilicata                   11\n",
       "Marche                       11\n",
       "Lombardia                    11\n",
       "Liguria                      11\n",
       "Lazio                        11\n",
       "Friuli-Venezia Giulia        11\n",
       "Emilia-Romagna               11\n",
       "Centro                       11\n",
       "Campania                     11\n",
       "Calabria                     11\n",
       "Bolzano                      11\n",
       "Veneto                       11\n",
       "Sardegna                      9\n",
       "dtype: int64"
      ]
     },
     "execution_count": 98,
     "metadata": {},
     "output_type": "execute_result"
    }
   ],
   "source": [
    "df.value_counts(\"Territorio\")"
   ]
  },
  {
   "cell_type": "code",
   "execution_count": 99,
   "metadata": {},
   "outputs": [
    {
     "data": {
      "text/plain": [
       "['Italia',\n",
       " 'Nord-ovest',\n",
       " 'Piemonte',\n",
       " 'Valle_Aosta',\n",
       " 'Liguria',\n",
       " 'Lombardia',\n",
       " 'Nord-est',\n",
       " 'Trentino Alto Adige',\n",
       " 'Bolzano',\n",
       " 'Provincia Autonoma Trento',\n",
       " 'Veneto',\n",
       " 'Friuli-Venezia Giulia',\n",
       " 'Emilia-Romagna',\n",
       " 'Centro',\n",
       " 'Toscana',\n",
       " 'Umbria',\n",
       " 'Marche',\n",
       " 'Lazio',\n",
       " 'Mezzogiorno',\n",
       " 'Abruzzo',\n",
       " 'Molise',\n",
       " 'Campania',\n",
       " 'Puglia',\n",
       " 'Basilicata',\n",
       " 'Calabria',\n",
       " 'Sicilia',\n",
       " 'Sardegna']"
      ]
     },
     "execution_count": 99,
     "metadata": {},
     "output_type": "execute_result"
    }
   ],
   "source": [
    "lista=df[\"Territorio\"].unique().tolist()\n",
    "lista"
   ]
  },
  {
   "cell_type": "code",
   "execution_count": 74,
   "metadata": {},
   "outputs": [],
   "source": [
    "# for i in lista:\n",
    "#     csv_filename = f\"cartellacsv/{i}.csv\"  \n",
    "#     xlsx_filename = f\"cartellaxls/{i}.xlsx\" \n",
    "#     subset_df = df[df[\"Territorio\"] == i] \n",
    "#     subset_df.to_csv(csv_filename)\n",
    "#     df_csv = pd.read_csv(csv_filename)\n",
    "#     df_csv.to_excel(xlsx_filename, index=False)"
   ]
  },
  {
   "cell_type": "code",
   "execution_count": 100,
   "metadata": {},
   "outputs": [],
   "source": [
    "for i in lista:\n",
    "    df[df[\"Territorio\"] == i].to_csv(f\"cartellacsv/{i}.csv\", index=False)\n",
    "    df[df[\"Territorio\"] == i].to_excel(f\"cartellaxlsx/{i}.xlsx\", index=False)"
   ]
  },
  {
   "cell_type": "code",
   "execution_count": 101,
   "metadata": {},
   "outputs": [],
   "source": [
    "files = os.path.join(\"cartellaxlsx/\",\"*.xlsx\")\n",
    "files = glob.glob(files)\n",
    "df = pd.concat(map(pd.read_excel, files), ignore_index=True)\n",
    "df.to_csv(\"totale1.csv\", sep= \",\", index=False)\n"
   ]
  },
  {
   "cell_type": "code",
   "execution_count": 102,
   "metadata": {},
   "outputs": [],
   "source": [
    "files = os.path.join(\"cartellaxlsx/\",\"*.xlsx\")\n",
    "files = glob.glob(files)\n",
    "df = pd.concat(map(pd.read_excel, files), ignore_index=True)\n",
    "df.to_excel(\"totale1.xlsx\", index=False)"
   ]
  },
  {
   "cell_type": "code",
   "execution_count": 2,
   "metadata": {},
   "outputs": [
    {
     "data": {
      "text/html": [
       "<div>\n",
       "<style scoped>\n",
       "    .dataframe tbody tr th:only-of-type {\n",
       "        vertical-align: middle;\n",
       "    }\n",
       "\n",
       "    .dataframe tbody tr th {\n",
       "        vertical-align: top;\n",
       "    }\n",
       "\n",
       "    .dataframe thead th {\n",
       "        text-align: right;\n",
       "    }\n",
       "</style>\n",
       "<table border=\"1\" class=\"dataframe\">\n",
       "  <thead>\n",
       "    <tr style=\"text-align: right;\">\n",
       "      <th></th>\n",
       "      <th>ragione_sociale</th>\n",
       "      <th>partita_iva</th>\n",
       "      <th>codice_fiscale</th>\n",
       "    </tr>\n",
       "  </thead>\n",
       "  <tbody>\n",
       "    <tr>\n",
       "      <th>0</th>\n",
       "      <td>COSCO SHIPPING LINES (ITALY) S.R.L.</td>\n",
       "      <td>01545620997</td>\n",
       "      <td>01545620997</td>\n",
       "    </tr>\n",
       "    <tr>\n",
       "      <th>1</th>\n",
       "      <td>CONFARTIGIANATO TORINO SERVIZI PER LE IMPRESE ...</td>\n",
       "      <td>09055130018</td>\n",
       "      <td>09055130018</td>\n",
       "    </tr>\n",
       "    <tr>\n",
       "      <th>2</th>\n",
       "      <td>MA.RE.TO 77 S.R.L.</td>\n",
       "      <td>12216370010</td>\n",
       "      <td>96684430018</td>\n",
       "    </tr>\n",
       "    <tr>\n",
       "      <th>3</th>\n",
       "      <td>OFFICINE METALMECCANICHE LAZIALI S.R.L. IN SIG...</td>\n",
       "      <td>02156300598</td>\n",
       "      <td>02156300598</td>\n",
       "    </tr>\n",
       "    <tr>\n",
       "      <th>4</th>\n",
       "      <td>ELIABRUZZO - S.R.L.</td>\n",
       "      <td>01430240695</td>\n",
       "      <td>01430240695</td>\n",
       "    </tr>\n",
       "    <tr>\n",
       "      <th>...</th>\n",
       "      <td>...</td>\n",
       "      <td>...</td>\n",
       "      <td>...</td>\n",
       "    </tr>\n",
       "    <tr>\n",
       "      <th>395</th>\n",
       "      <td>ALIARA VINI SOCIETA' AGRICOLA S.R.L. ALIARA SO...</td>\n",
       "      <td>03541160549</td>\n",
       "      <td>03541160549</td>\n",
       "    </tr>\n",
       "    <tr>\n",
       "      <th>396</th>\n",
       "      <td>ALICA SOCIETA' COOPERATIVA AGRICOLA</td>\n",
       "      <td>03015810603</td>\n",
       "      <td>03015810603</td>\n",
       "    </tr>\n",
       "    <tr>\n",
       "      <th>397</th>\n",
       "      <td>ALLEANZA AGRICOLA SOCIETA' COOPERATIVA</td>\n",
       "      <td>02155190982</td>\n",
       "      <td>02155190982</td>\n",
       "    </tr>\n",
       "    <tr>\n",
       "      <th>398</th>\n",
       "      <td>ALLEVAMENTI &amp; PODERI PADANI SOCIETA' AGRICOLA ...</td>\n",
       "      <td>01655970190</td>\n",
       "      <td>01655970190</td>\n",
       "    </tr>\n",
       "    <tr>\n",
       "      <th>399</th>\n",
       "      <td>ALLEVAMENTI AURORA SOCIETA' AGRICOLA COOPERATI...</td>\n",
       "      <td>00605890045</td>\n",
       "      <td>00605890045</td>\n",
       "    </tr>\n",
       "  </tbody>\n",
       "</table>\n",
       "<p>400 rows × 3 columns</p>\n",
       "</div>"
      ],
      "text/plain": [
       "                                       ragione_sociale  partita_iva   \n",
       "0                  COSCO SHIPPING LINES (ITALY) S.R.L.  01545620997  \\\n",
       "1    CONFARTIGIANATO TORINO SERVIZI PER LE IMPRESE ...  09055130018   \n",
       "2                                   MA.RE.TO 77 S.R.L.  12216370010   \n",
       "3    OFFICINE METALMECCANICHE LAZIALI S.R.L. IN SIG...  02156300598   \n",
       "4                                  ELIABRUZZO - S.R.L.  01430240695   \n",
       "..                                                 ...          ...   \n",
       "395  ALIARA VINI SOCIETA' AGRICOLA S.R.L. ALIARA SO...  03541160549   \n",
       "396                ALICA SOCIETA' COOPERATIVA AGRICOLA  03015810603   \n",
       "397             ALLEANZA AGRICOLA SOCIETA' COOPERATIVA  02155190982   \n",
       "398  ALLEVAMENTI & PODERI PADANI SOCIETA' AGRICOLA ...  01655970190   \n",
       "399  ALLEVAMENTI AURORA SOCIETA' AGRICOLA COOPERATI...  00605890045   \n",
       "\n",
       "    codice_fiscale  \n",
       "0      01545620997  \n",
       "1      09055130018  \n",
       "2      96684430018  \n",
       "3      02156300598  \n",
       "4      01430240695  \n",
       "..             ...  \n",
       "395    03541160549  \n",
       "396    03015810603  \n",
       "397    02155190982  \n",
       "398    01655970190  \n",
       "399    00605890045  \n",
       "\n",
       "[400 rows x 3 columns]"
      ]
     },
     "execution_count": 2,
     "metadata": {},
     "output_type": "execute_result"
    }
   ],
   "source": [
    "import pandas as pd\n",
    "df = pd.read_excel(\"anagrafica.xlsx\", dtype={\"partita_iva\":str, \"codice_fiscale\":str})\n",
    "df[\"codice_fiscale\"] = df[\"codice_fiscale\"].str.zfill(11)\n",
    "df[\"partita_iva\"] = df[\"partita_iva\"].str.zfill(11)\n",
    "df"
   ]
  },
  {
   "cell_type": "code",
   "execution_count": 118,
   "metadata": {},
   "outputs": [],
   "source": [
    "def populate_sqlite_from_df(df, database_file,tablename):    \n",
    "    # Connette al database SQLite\n",
    "    conn = sqlite3.connect(database_file)\n",
    "    # Scrivi il DataFrame nel database SQLite\n",
    "    df.to_sql(tablename, conn, if_exists='replace', index=False)\n",
    "    # Chiudi la connessione al database\n",
    "    conn.close()\n",
    "\n",
    "populate_sqlite_from_df(df,\"test1.db\",\"anagrafica\")"
   ]
  },
  {
   "cell_type": "code",
   "execution_count": 3,
   "metadata": {},
   "outputs": [],
   "source": [
    "df.to_parquet(\"anagrafica.parquet\", index=False)"
   ]
  },
  {
   "cell_type": "code",
   "execution_count": null,
   "metadata": {},
   "outputs": [],
   "source": []
  }
 ],
 "metadata": {
  "kernelspec": {
   "display_name": "Python 3",
   "language": "python",
   "name": "python3"
  },
  "language_info": {
   "codemirror_mode": {
    "name": "ipython",
    "version": 3
   },
   "file_extension": ".py",
   "mimetype": "text/x-python",
   "name": "python",
   "nbconvert_exporter": "python",
   "pygments_lexer": "ipython3",
   "version": "3.9.7"
  },
  "orig_nbformat": 4
 },
 "nbformat": 4,
 "nbformat_minor": 2
}
